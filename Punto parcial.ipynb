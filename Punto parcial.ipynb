{
  "nbformat": 4,
  "nbformat_minor": 0,
  "metadata": {
    "colab": {
      "provenance": []
    },
    "kernelspec": {
      "name": "python3",
      "display_name": "Python 3"
    },
    "language_info": {
      "name": "python"
    }
  },
  "cells": [
    {
      "cell_type": "markdown",
      "source": [
        "#Karen Vanessa Acosta Enciso. 63201022\n"
      ],
      "metadata": {
        "id": "UyXpB97dJMI8"
      }
    },
    {
      "cell_type": "code",
      "execution_count": null,
      "metadata": {
        "colab": {
          "base_uri": "https://localhost:8080/"
        },
        "id": "I95le08dSDqG",
        "outputId": "a7d00382-bba1-4060-84e5-5e401ec49c55"
      },
      "outputs": [
        {
          "output_type": "stream",
          "name": "stdout",
          "text": [
            "Looking in indexes: https://pypi.org/simple, https://us-python.pkg.dev/colab-wheels/public/simple/\n",
            "Collecting wooldridge\n",
            "  Downloading wooldridge-0.4.4-py3-none-any.whl (5.1 MB)\n",
            "\u001b[2K     \u001b[90m━━━━━━━━━━━━━━━━━━━━━━━━━━━━━━━━━━━━━━━━\u001b[0m \u001b[32m5.1/5.1 MB\u001b[0m \u001b[31m17.5 MB/s\u001b[0m eta \u001b[36m0:00:00\u001b[0m\n",
            "\u001b[?25hRequirement already satisfied: pandas in /usr/local/lib/python3.10/dist-packages (from wooldridge) (1.5.3)\n",
            "Requirement already satisfied: python-dateutil>=2.8.1 in /usr/local/lib/python3.10/dist-packages (from pandas->wooldridge) (2.8.2)\n",
            "Requirement already satisfied: pytz>=2020.1 in /usr/local/lib/python3.10/dist-packages (from pandas->wooldridge) (2022.7.1)\n",
            "Requirement already satisfied: numpy>=1.21.0 in /usr/local/lib/python3.10/dist-packages (from pandas->wooldridge) (1.22.4)\n",
            "Requirement already satisfied: six>=1.5 in /usr/local/lib/python3.10/dist-packages (from python-dateutil>=2.8.1->pandas->wooldridge) (1.16.0)\n",
            "Installing collected packages: wooldridge\n",
            "Successfully installed wooldridge-0.4.4\n"
          ]
        }
      ],
      "source": [
        "!pip install wooldridge\n",
        "import pandas as pd\n",
        "import numpy as np\n",
        "import wooldridge as wd\n",
        "import statsmodels.api as sm"
      ]
    },
    {
      "cell_type": "code",
      "source": [
        "lista=[[2.8,21],\n",
        "       [3.4,24],\n",
        "       [3,26],\n",
        "       [3.5,27],\n",
        "       [3.6,29],\n",
        "       [3,25],\n",
        "       [2.7,25],\n",
        "       [3.7,30]]"
      ],
      "metadata": {
        "id": "MdMMO8oSSWH7"
      },
      "execution_count": null,
      "outputs": []
    },
    {
      "cell_type": "code",
      "source": [
        "arr=np.array(lista)"
      ],
      "metadata": {
        "id": "dOhaH9q2URdo"
      },
      "execution_count": null,
      "outputs": []
    },
    {
      "cell_type": "code",
      "source": [
        "YLISTA=arr[:,0]\n",
        "XLISTA=arr[:,1]\n"
      ],
      "metadata": {
        "id": "TUg3sfhSUwpX"
      },
      "execution_count": null,
      "outputs": []
    },
    {
      "cell_type": "code",
      "source": [
        "YLISTA\n"
      ],
      "metadata": {
        "colab": {
          "base_uri": "https://localhost:8080/"
        },
        "id": "l__toUjhVH73",
        "outputId": "5f91935d-942f-47ee-d825-c8bede0bdedb"
      },
      "execution_count": null,
      "outputs": [
        {
          "output_type": "execute_result",
          "data": {
            "text/plain": [
              "array([2.8, 3.4, 3. , 3.5, 3.6, 3. , 2.7, 3.7])"
            ]
          },
          "metadata": {},
          "execution_count": 18
        }
      ]
    },
    {
      "cell_type": "code",
      "source": [
        "XLISTA"
      ],
      "metadata": {
        "colab": {
          "base_uri": "https://localhost:8080/"
        },
        "id": "n-YDRHjlVnj3",
        "outputId": "b7b021fc-cb1d-4419-bd78-32e509c79fab"
      },
      "execution_count": null,
      "outputs": [
        {
          "output_type": "execute_result",
          "data": {
            "text/plain": [
              "array([21., 24., 26., 27., 29., 25., 25., 30.])"
            ]
          },
          "metadata": {},
          "execution_count": 19
        }
      ]
    },
    {
      "cell_type": "code",
      "source": [
        "X=np.c_[np.ones(len(XLISTA)),XLISTA]    \n",
        "X   "
      ],
      "metadata": {
        "colab": {
          "base_uri": "https://localhost:8080/"
        },
        "id": "Lilk6_dsVq8f",
        "outputId": "07c0f86d-0464-4ba3-ffff-76420a034951"
      },
      "execution_count": null,
      "outputs": [
        {
          "output_type": "execute_result",
          "data": {
            "text/plain": [
              "array([[ 1., 21.],\n",
              "       [ 1., 24.],\n",
              "       [ 1., 26.],\n",
              "       [ 1., 27.],\n",
              "       [ 1., 29.],\n",
              "       [ 1., 25.],\n",
              "       [ 1., 25.],\n",
              "       [ 1., 30.]])"
            ]
          },
          "metadata": {},
          "execution_count": 20
        }
      ]
    },
    {
      "cell_type": "code",
      "source": [
        "betas=np.linalg.inv (X.T.dot(X)).dot(X.T.dot(YLISTA))\n",
        "betas= betas.squeeze()\n",
        "betas"
      ],
      "metadata": {
        "colab": {
          "base_uri": "https://localhost:8080/"
        },
        "id": "VYtxl83GVvx3",
        "outputId": "173db06f-c3dc-4143-d360-3374d61ba01a"
      },
      "execution_count": null,
      "outputs": [
        {
          "output_type": "execute_result",
          "data": {
            "text/plain": [
              "array([0.56813187, 0.1021978 ])"
            ]
          },
          "metadata": {},
          "execution_count": 21
        }
      ]
    },
    {
      "cell_type": "code",
      "source": [
        "y_est=(X@betas)\n",
        "y_est"
      ],
      "metadata": {
        "colab": {
          "base_uri": "https://localhost:8080/"
        },
        "id": "iulUx1CSV4n3",
        "outputId": "8c254560-2a10-41b9-83fc-c1f676830469"
      },
      "execution_count": null,
      "outputs": [
        {
          "output_type": "execute_result",
          "data": {
            "text/plain": [
              "array([2.71428571, 3.02087912, 3.22527473, 3.32747253, 3.53186813,\n",
              "       3.12307692, 3.12307692, 3.63406593])"
            ]
          },
          "metadata": {},
          "execution_count": 22
        }
      ]
    },
    {
      "cell_type": "code",
      "source": [
        "u_est=YLISTA-y_est\n",
        "u_est"
      ],
      "metadata": {
        "colab": {
          "base_uri": "https://localhost:8080/"
        },
        "id": "CMfHgwV8V-Gw",
        "outputId": "d261c6d5-7cd0-4484-c3a9-b96c3af5f3ae"
      },
      "execution_count": null,
      "outputs": [
        {
          "output_type": "execute_result",
          "data": {
            "text/plain": [
              "array([ 0.08571429,  0.37912088, -0.22527473,  0.17252747,  0.06813187,\n",
              "       -0.12307692, -0.42307692,  0.06593407])"
            ]
          },
          "metadata": {},
          "execution_count": 23
        }
      ]
    },
    {
      "cell_type": "code",
      "source": [
        "u_est2=u_est**2\n",
        "u_est2"
      ],
      "metadata": {
        "colab": {
          "base_uri": "https://localhost:8080/"
        },
        "id": "G2PBe5wYWkCv",
        "outputId": "316e71ae-f2ca-4747-8f76-5038f667424e"
      },
      "execution_count": null,
      "outputs": [
        {
          "output_type": "execute_result",
          "data": {
            "text/plain": [
              "array([0.00734694, 0.14373264, 0.0507487 , 0.02976573, 0.00464195,\n",
              "       0.01514793, 0.17899408, 0.0043473 ])"
            ]
          },
          "metadata": {},
          "execution_count": 27
        }
      ]
    },
    {
      "cell_type": "code",
      "source": [
        "betas_u2=np.linalg.inv (X.T.dot(X)).dot(X.T.dot(u_est2))\n",
        "betas_u2\n"
      ],
      "metadata": {
        "colab": {
          "base_uri": "https://localhost:8080/"
        },
        "id": "tcqhv6Q2W3Yp",
        "outputId": "3d2446d2-960e-4695-c0b9-712e6f0805f7"
      },
      "execution_count": null,
      "outputs": [
        {
          "output_type": "execute_result",
          "data": {
            "text/plain": [
              "array([ 0.23764737, -0.00708432])"
            ]
          },
          "metadata": {},
          "execution_count": 29
        }
      ]
    },
    {
      "cell_type": "code",
      "source": [
        "yi_est2=(X@betas_u2)\n",
        "yi_est2"
      ],
      "metadata": {
        "colab": {
          "base_uri": "https://localhost:8080/"
        },
        "id": "1n-zwb1oXIA_",
        "outputId": "c80270c5-98c3-4183-a738-62bf18cc381f"
      },
      "execution_count": null,
      "outputs": [
        {
          "output_type": "execute_result",
          "data": {
            "text/plain": [
              "array([0.08887671, 0.06762375, 0.05345512, 0.0463708 , 0.03220217,\n",
              "       0.06053944, 0.06053944, 0.02511785])"
            ]
          },
          "metadata": {},
          "execution_count": 33
        }
      ]
    },
    {
      "cell_type": "code",
      "source": [
        "prom=u_est2.mean()\n",
        "prom"
      ],
      "metadata": {
        "colab": {
          "base_uri": "https://localhost:8080/"
        },
        "id": "9n8hBRfJXtfl",
        "outputId": "f42631d4-3a42-4cd2-888b-b57b430bd5ea"
      },
      "execution_count": null,
      "outputs": [
        {
          "output_type": "execute_result",
          "data": {
            "text/plain": [
              "0.054340659340659334"
            ]
          },
          "metadata": {},
          "execution_count": 36
        }
      ]
    },
    {
      "cell_type": "code",
      "source": [
        "SSE=sum((yi_est2-prom)**2)\n",
        "SSE"
      ],
      "metadata": {
        "colab": {
          "base_uri": "https://localhost:8080/"
        },
        "id": "nvmBIeQtYYYG",
        "outputId": "ba3e5dfb-3f11-401a-fdc3-cce4df702637"
      },
      "execution_count": null,
      "outputs": [
        {
          "output_type": "execute_result",
          "data": {
            "text/plain": [
              "0.002854416920574607"
            ]
          },
          "metadata": {},
          "execution_count": 45
        }
      ]
    },
    {
      "cell_type": "code",
      "source": [
        "SST=sum((u_est2-prom)**2)\n",
        "SST"
      ],
      "metadata": {
        "colab": {
          "base_uri": "https://localhost:8080/"
        },
        "id": "0o7t9xp7YkrI",
        "outputId": "1daea650-c3e6-4d51-b5b3-0fba118010c6"
      },
      "execution_count": null,
      "outputs": [
        {
          "output_type": "execute_result",
          "data": {
            "text/plain": [
              "0.03286000906657431"
            ]
          },
          "metadata": {},
          "execution_count": 46
        }
      ]
    },
    {
      "cell_type": "code",
      "source": [
        "R2=SSE/SST  ##R^2\n",
        "R2"
      ],
      "metadata": {
        "colab": {
          "base_uri": "https://localhost:8080/"
        },
        "id": "i4NV905nY4qn",
        "outputId": "ba6bffd7-7f59-4773-a659-e6cd4312369d"
      },
      "execution_count": null,
      "outputs": [
        {
          "output_type": "execute_result",
          "data": {
            "text/plain": [
              "0.08686598091898161"
            ]
          },
          "metadata": {},
          "execution_count": 49
        }
      ]
    },
    {
      "cell_type": "code",
      "source": [
        "LM=8*R2 ##MULTIPLICADOR DE LAGRANGE\n",
        "LM"
      ],
      "metadata": {
        "colab": {
          "base_uri": "https://localhost:8080/"
        },
        "id": "PiOAWauRZ7of",
        "outputId": "bd2a0f8f-cad3-4589-ec82-009f7caa8f7f"
      },
      "execution_count": null,
      "outputs": [
        {
          "output_type": "execute_result",
          "data": {
            "text/plain": [
              "0.6949278473518529"
            ]
          },
          "metadata": {},
          "execution_count": 52
        }
      ]
    },
    {
      "cell_type": "code",
      "source": [
        "import scipy.stats as st\n",
        "CHI= st.chi2(1)\n",
        "\n",
        "1-CHI.cdf(0.69)"
      ],
      "metadata": {
        "colab": {
          "base_uri": "https://localhost:8080/"
        },
        "id": "Cl4XMNKabjy1",
        "outputId": "c9202413-c8a9-4788-98b9-78e7faf83a48"
      },
      "execution_count": null,
      "outputs": [
        {
          "output_type": "execute_result",
          "data": {
            "text/plain": [
              "0.40616438071332606"
            ]
          },
          "metadata": {},
          "execution_count": 55
        }
      ]
    },
    {
      "cell_type": "markdown",
      "source": [
        "## ES HOMOCEDASTICO AL SER MAYOR QUE EL P-VALOR\n",
        "\n",
        "\n",
        "\n"
      ],
      "metadata": {
        "id": "mw_9XwYAb2ng"
      }
    },
    {
      "cell_type": "code",
      "source": [],
      "metadata": {
        "id": "fvwjCnEDJWSE"
      },
      "execution_count": null,
      "outputs": []
    }
  ]
}